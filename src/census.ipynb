{
 "cells": [
  {
   "cell_type": "markdown",
   "metadata": {},
   "source": [
    "#  An Individual's Likelihood on Making Over/Under $50K Based on Categorical Features"
   ]
  },
  {
   "cell_type": "code",
   "execution_count": 138,
   "metadata": {},
   "outputs": [],
   "source": [
    "# Importing Dependencies\n",
    "import pandas as pd\n",
    "import numpy as np\n",
    "import statsmodels.api as sm\n",
    "import scipy.stats as stats \n",
    "import matplotlib.pyplot as plt\n",
    "import random\n",
    "import seaborn as sns"
   ]
  },
  {
   "cell_type": "markdown",
   "metadata": {},
   "source": [
    "## Data Cleaning and Preparation"
   ]
  },
  {
   "cell_type": "markdown",
   "metadata": {},
   "source": [
    "A portion of the data cleaning/preparation process involved converting the data into a csv file.<br>\n",
    "\n",
    "For this project, we'll be using the education, race, income features to evaluate if race and education level significantly effects an individual's likelihood of earning over or under $50,000 per year.<br>\n",
    "\n",
    "Below is a filtered version of the census dataset that only includes the filtered feature columns.<br>"
   ]
  },
  {
   "cell_type": "code",
   "execution_count": 139,
   "metadata": {},
   "outputs": [
    {
     "data": {
      "text/html": [
       "<div>\n",
       "<style scoped>\n",
       "    .dataframe tbody tr th:only-of-type {\n",
       "        vertical-align: middle;\n",
       "    }\n",
       "\n",
       "    .dataframe tbody tr th {\n",
       "        vertical-align: top;\n",
       "    }\n",
       "\n",
       "    .dataframe thead th {\n",
       "        text-align: right;\n",
       "    }\n",
       "</style>\n",
       "<table border=\"1\" class=\"dataframe\">\n",
       "  <thead>\n",
       "    <tr style=\"text-align: right;\">\n",
       "      <th></th>\n",
       "      <th>education</th>\n",
       "      <th>marital-status</th>\n",
       "      <th>race</th>\n",
       "      <th>native-country</th>\n",
       "      <th>income</th>\n",
       "    </tr>\n",
       "  </thead>\n",
       "  <tbody>\n",
       "    <tr>\n",
       "      <th>0</th>\n",
       "      <td>Bachelors</td>\n",
       "      <td>Married-civ-spouse</td>\n",
       "      <td>White</td>\n",
       "      <td>United-States</td>\n",
       "      <td>&lt;=50K</td>\n",
       "    </tr>\n",
       "    <tr>\n",
       "      <th>1</th>\n",
       "      <td>HS-grad</td>\n",
       "      <td>Divorced</td>\n",
       "      <td>White</td>\n",
       "      <td>United-States</td>\n",
       "      <td>&lt;=50K</td>\n",
       "    </tr>\n",
       "    <tr>\n",
       "      <th>2</th>\n",
       "      <td>11th</td>\n",
       "      <td>Married-civ-spouse</td>\n",
       "      <td>Black</td>\n",
       "      <td>United-States</td>\n",
       "      <td>&lt;=50K</td>\n",
       "    </tr>\n",
       "    <tr>\n",
       "      <th>3</th>\n",
       "      <td>Bachelors</td>\n",
       "      <td>Married-civ-spouse</td>\n",
       "      <td>Black</td>\n",
       "      <td>Cuba</td>\n",
       "      <td>&lt;=50K</td>\n",
       "    </tr>\n",
       "    <tr>\n",
       "      <th>4</th>\n",
       "      <td>Masters</td>\n",
       "      <td>Married-civ-spouse</td>\n",
       "      <td>White</td>\n",
       "      <td>United-States</td>\n",
       "      <td>&lt;=50K</td>\n",
       "    </tr>\n",
       "    <tr>\n",
       "      <th>...</th>\n",
       "      <td>...</td>\n",
       "      <td>...</td>\n",
       "      <td>...</td>\n",
       "      <td>...</td>\n",
       "      <td>...</td>\n",
       "    </tr>\n",
       "    <tr>\n",
       "      <th>32555</th>\n",
       "      <td>Assoc-acdm</td>\n",
       "      <td>Married-civ-spouse</td>\n",
       "      <td>White</td>\n",
       "      <td>United-States</td>\n",
       "      <td>&lt;=50K</td>\n",
       "    </tr>\n",
       "    <tr>\n",
       "      <th>32556</th>\n",
       "      <td>HS-grad</td>\n",
       "      <td>Married-civ-spouse</td>\n",
       "      <td>White</td>\n",
       "      <td>United-States</td>\n",
       "      <td>&gt;50K</td>\n",
       "    </tr>\n",
       "    <tr>\n",
       "      <th>32557</th>\n",
       "      <td>HS-grad</td>\n",
       "      <td>Widowed</td>\n",
       "      <td>White</td>\n",
       "      <td>United-States</td>\n",
       "      <td>&lt;=50K</td>\n",
       "    </tr>\n",
       "    <tr>\n",
       "      <th>32558</th>\n",
       "      <td>HS-grad</td>\n",
       "      <td>Never-married</td>\n",
       "      <td>White</td>\n",
       "      <td>United-States</td>\n",
       "      <td>&lt;=50K</td>\n",
       "    </tr>\n",
       "    <tr>\n",
       "      <th>32559</th>\n",
       "      <td>HS-grad</td>\n",
       "      <td>Married-civ-spouse</td>\n",
       "      <td>White</td>\n",
       "      <td>United-States</td>\n",
       "      <td>&gt;50K</td>\n",
       "    </tr>\n",
       "  </tbody>\n",
       "</table>\n",
       "<p>32560 rows × 5 columns</p>\n",
       "</div>"
      ],
      "text/plain": [
       "         education       marital-status   race  native-country income\n",
       "0        Bachelors   Married-civ-spouse  White   United-States  <=50K\n",
       "1          HS-grad             Divorced  White   United-States  <=50K\n",
       "2             11th   Married-civ-spouse  Black   United-States  <=50K\n",
       "3        Bachelors   Married-civ-spouse  Black            Cuba  <=50K\n",
       "4          Masters   Married-civ-spouse  White   United-States  <=50K\n",
       "...            ...                  ...    ...             ...    ...\n",
       "32555   Assoc-acdm   Married-civ-spouse  White   United-States  <=50K\n",
       "32556      HS-grad   Married-civ-spouse  White   United-States   >50K\n",
       "32557      HS-grad              Widowed  White   United-States  <=50K\n",
       "32558      HS-grad        Never-married  White   United-States  <=50K\n",
       "32559      HS-grad   Married-civ-spouse  White   United-States   >50K\n",
       "\n",
       "[32560 rows x 5 columns]"
      ]
     },
     "execution_count": 139,
     "metadata": {},
     "output_type": "execute_result"
    }
   ],
   "source": [
    "# Reading in the census csv as a dataframe\n",
    "census = pd.read_csv('census.csv', usecols=['income','education','race','marital-status','native-country'])\n",
    "\n",
    "# The strip function was used because there was an extra white space in the race column \n",
    "census['race'] = census['race'].str.strip()\n",
    "census['income'] =  census['income'].str.strip()\n",
    "\n",
    "census"
   ]
  },
  {
   "cell_type": "markdown",
   "metadata": {},
   "source": [
    "## Exploratory Data Analysis"
   ]
  },
  {
   "cell_type": "markdown",
   "metadata": {},
   "source": [
    "Immediately, we notice that there are far more observations for white individuals than any other race in the dataset. <br>\n",
    "\n",
    "Therefore, we'll take a random sample of 150 individuals from each race to fairly conduct our statistical analysis."
   ]
  },
  {
   "cell_type": "code",
   "execution_count": 140,
   "metadata": {},
   "outputs": [
    {
     "data": {
      "text/plain": [
       "White                 27815\n",
       "Black                  3124\n",
       "Asian-Pac-Islander     1039\n",
       "Amer-Indian-Eskimo      311\n",
       "Other                   271\n",
       "Name: race, dtype: int64"
      ]
     },
     "execution_count": 140,
     "metadata": {},
     "output_type": "execute_result"
    }
   ],
   "source": [
    "census['race'].value_counts()"
   ]
  },
  {
   "cell_type": "code",
   "execution_count": 141,
   "metadata": {},
   "outputs": [
    {
     "data": {
      "text/html": [
       "<div>\n",
       "<style scoped>\n",
       "    .dataframe tbody tr th:only-of-type {\n",
       "        vertical-align: middle;\n",
       "    }\n",
       "\n",
       "    .dataframe tbody tr th {\n",
       "        vertical-align: top;\n",
       "    }\n",
       "\n",
       "    .dataframe thead th {\n",
       "        text-align: right;\n",
       "    }\n",
       "</style>\n",
       "<table border=\"1\" class=\"dataframe\">\n",
       "  <thead>\n",
       "    <tr style=\"text-align: right;\">\n",
       "      <th></th>\n",
       "      <th>education</th>\n",
       "      <th>marital-status</th>\n",
       "      <th>race</th>\n",
       "      <th>native-country</th>\n",
       "      <th>income</th>\n",
       "    </tr>\n",
       "  </thead>\n",
       "  <tbody>\n",
       "    <tr>\n",
       "      <th>9720</th>\n",
       "      <td>Masters</td>\n",
       "      <td>Divorced</td>\n",
       "      <td>White</td>\n",
       "      <td>United-States</td>\n",
       "      <td>&lt;=50K</td>\n",
       "    </tr>\n",
       "    <tr>\n",
       "      <th>1681</th>\n",
       "      <td>Bachelors</td>\n",
       "      <td>Married-civ-spouse</td>\n",
       "      <td>White</td>\n",
       "      <td>United-States</td>\n",
       "      <td>&gt;50K</td>\n",
       "    </tr>\n",
       "    <tr>\n",
       "      <th>24467</th>\n",
       "      <td>9th</td>\n",
       "      <td>Widowed</td>\n",
       "      <td>White</td>\n",
       "      <td>United-States</td>\n",
       "      <td>&lt;=50K</td>\n",
       "    </tr>\n",
       "    <tr>\n",
       "      <th>19847</th>\n",
       "      <td>Some-college</td>\n",
       "      <td>Separated</td>\n",
       "      <td>White</td>\n",
       "      <td>United-States</td>\n",
       "      <td>&lt;=50K</td>\n",
       "    </tr>\n",
       "    <tr>\n",
       "      <th>14468</th>\n",
       "      <td>Masters</td>\n",
       "      <td>Divorced</td>\n",
       "      <td>White</td>\n",
       "      <td>United-States</td>\n",
       "      <td>&lt;=50K</td>\n",
       "    </tr>\n",
       "    <tr>\n",
       "      <th>...</th>\n",
       "      <td>...</td>\n",
       "      <td>...</td>\n",
       "      <td>...</td>\n",
       "      <td>...</td>\n",
       "      <td>...</td>\n",
       "    </tr>\n",
       "    <tr>\n",
       "      <th>19758</th>\n",
       "      <td>HS-grad</td>\n",
       "      <td>Never-married</td>\n",
       "      <td>Amer-Indian-Eskimo</td>\n",
       "      <td>United-States</td>\n",
       "      <td>&lt;=50K</td>\n",
       "    </tr>\n",
       "    <tr>\n",
       "      <th>17780</th>\n",
       "      <td>Doctorate</td>\n",
       "      <td>Married-spouse-absent</td>\n",
       "      <td>Amer-Indian-Eskimo</td>\n",
       "      <td>United-States</td>\n",
       "      <td>&lt;=50K</td>\n",
       "    </tr>\n",
       "    <tr>\n",
       "      <th>19136</th>\n",
       "      <td>HS-grad</td>\n",
       "      <td>Separated</td>\n",
       "      <td>Amer-Indian-Eskimo</td>\n",
       "      <td>United-States</td>\n",
       "      <td>&lt;=50K</td>\n",
       "    </tr>\n",
       "    <tr>\n",
       "      <th>30578</th>\n",
       "      <td>11th</td>\n",
       "      <td>Never-married</td>\n",
       "      <td>Amer-Indian-Eskimo</td>\n",
       "      <td>United-States</td>\n",
       "      <td>&lt;=50K</td>\n",
       "    </tr>\n",
       "    <tr>\n",
       "      <th>16933</th>\n",
       "      <td>Assoc-acdm</td>\n",
       "      <td>Divorced</td>\n",
       "      <td>Amer-Indian-Eskimo</td>\n",
       "      <td>United-States</td>\n",
       "      <td>&lt;=50K</td>\n",
       "    </tr>\n",
       "  </tbody>\n",
       "</table>\n",
       "<p>600 rows × 5 columns</p>\n",
       "</div>"
      ],
      "text/plain": [
       "           education          marital-status                race  \\\n",
       "9720         Masters                Divorced               White   \n",
       "1681       Bachelors      Married-civ-spouse               White   \n",
       "24467            9th                 Widowed               White   \n",
       "19847   Some-college               Separated               White   \n",
       "14468        Masters                Divorced               White   \n",
       "...              ...                     ...                 ...   \n",
       "19758        HS-grad           Never-married  Amer-Indian-Eskimo   \n",
       "17780      Doctorate   Married-spouse-absent  Amer-Indian-Eskimo   \n",
       "19136        HS-grad               Separated  Amer-Indian-Eskimo   \n",
       "30578           11th           Never-married  Amer-Indian-Eskimo   \n",
       "16933     Assoc-acdm                Divorced  Amer-Indian-Eskimo   \n",
       "\n",
       "       native-country income  \n",
       "9720    United-States  <=50K  \n",
       "1681    United-States   >50K  \n",
       "24467   United-States  <=50K  \n",
       "19847   United-States  <=50K  \n",
       "14468   United-States  <=50K  \n",
       "...               ...    ...  \n",
       "19758   United-States  <=50K  \n",
       "17780   United-States  <=50K  \n",
       "19136   United-States  <=50K  \n",
       "30578   United-States  <=50K  \n",
       "16933   United-States  <=50K  \n",
       "\n",
       "[600 rows x 5 columns]"
      ]
     },
     "execution_count": 141,
     "metadata": {},
     "output_type": "execute_result"
    }
   ],
   "source": [
    "# Gathering Sample Data by Race\n",
    "\n",
    "# Replace parameter is used to ensure all 150 samples are unique. Random seed is used for reproducibility\n",
    "np.random.seed(0)\n",
    "\n",
    "white_sample = census[census['race'] == 'White'].sample(n=150, replace=False)\n",
    "black_sample = census[census['race'] == 'Black'].sample(n=150, replace=False)\n",
    "asian_sample = census[census['race'] == 'Asian-Pac-Islander'].sample(n=150, replace=False)\n",
    "indian_sample = census[census['race'] == 'Amer-Indian-Eskimo'].sample(n=150, replace=False)\n",
    "\n",
    "sample_dataframe = pd.concat([white_sample, black_sample,asian_sample,indian_sample])\n",
    "\n",
    "sample_dataframe"
   ]
  },
  {
   "cell_type": "markdown",
   "metadata": {},
   "source": [
    "## Model Selection and Analysis"
   ]
  },
  {
   "cell_type": "markdown",
   "metadata": {},
   "source": [
    "Before conducting data visualizations on the samples from the census population, we'll first declare a null and alternative hypotheis followed by a Pearson's chi-squared test for independence.  <br><br>\n",
    "$H_0$: There is no relation between the categorical feature and income.<br>\n",
    "$H_\\alpha$ : There is a relation between the categorical feature and income. <br>\n",
    "\n",
    "It is important to note that we will be conducting the chi-squared test with income and one categorical feature at a time. We are not testing the relationship between income and all categorical features simulatenously.\n",
    "\n",
    "We will verify our hypothesis using: p-value"
   ]
  },
  {
   "cell_type": "markdown",
   "metadata": {},
   "source": [
    "### Chi-Square Test"
   ]
  },
  {
   "cell_type": "code",
   "execution_count": 155,
   "metadata": {},
   "outputs": [],
   "source": [
    "# Setting our P-value/significance level\n",
    "significance_level = 0.05\n",
    "\n",
    "# Education + Income Crosstab\n",
    "ed_income_cross = pd.crosstab(sample_dataframe[\"education\"],sample_dataframe[\"income\"])\n",
    "\n",
    "# Race + Income Crosstab\n",
    "race_income_cross = pd.crosstab(sample_dataframe[\"race\"],sample_dataframe[\"income\"])\n",
    "\n",
    "# Marital Status + Income Crosstab\n",
    "marital_income_cross = pd.crosstab(sample_dataframe[\"marital-status\"],sample_dataframe[\"income\"])\n"
   ]
  },
  {
   "cell_type": "code",
   "execution_count": 154,
   "metadata": {},
   "outputs": [
    {
     "name": "stdout",
     "output_type": "stream",
     "text": [
      "Education: \n",
      " income         <=50K  >50K\n",
      "education                 \n",
      " 10th             18     0\n",
      " 11th             22     2\n",
      " 12th              9     0\n",
      " 1st-4th           4     0\n",
      " 5th-6th           6     0\n",
      " 7th-8th          12     0\n",
      " 9th               9     0\n",
      " Assoc-acdm       18     5\n",
      " Assoc-voc        22    10\n",
      " Bachelors        51    45\n",
      " Doctorate         3     3\n",
      " HS-grad         161    19\n",
      " Masters          11    17\n",
      " Preschool         1     0\n",
      " Prof-school       2     9\n",
      " Some-college    120    21\n"
     ]
    }
   ],
   "source": [
    "# Printing out contingency tables\n",
    "\n",
    "# Education Contingency Table\n",
    "print(\"Education: \\n\", ed_income_cross)"
   ]
  },
  {
   "cell_type": "code",
   "execution_count": 153,
   "metadata": {},
   "outputs": [
    {
     "name": "stdout",
     "output_type": "stream",
     "text": [
      "Race: \n",
      " income              <=50K  >50K\n",
      "race                           \n",
      "Amer-Indian-Eskimo    133    17\n",
      "Asian-Pac-Islander    105    45\n",
      "Black                 125    25\n",
      "White                 106    44\n"
     ]
    }
   ],
   "source": [
    "# Race Contingency Table\n",
    "print(\"Race: \\n\", race_income_cross)"
   ]
  },
  {
   "cell_type": "code",
   "execution_count": 152,
   "metadata": {},
   "outputs": [
    {
     "name": "stdout",
     "output_type": "stream",
     "text": [
      "Marital: \n",
      " income                  <=50K  >50K\n",
      "marital-status                     \n",
      " Divorced                  74     4\n",
      " Married-civ-spouse       151   115\n",
      " Married-spouse-absent     10     1\n",
      " Never-married            183     8\n",
      " Separated                 32     2\n",
      " Widowed                   19     1\n"
     ]
    }
   ],
   "source": [
    "# Marital Contingency Table\n",
    "print(\"Marital: \\n\", marital_income_cross)"
   ]
  },
  {
   "cell_type": "code",
   "execution_count": 156,
   "metadata": {},
   "outputs": [
    {
     "name": "stdout",
     "output_type": "stream",
     "text": [
      "p-value: 2.944e-19\n",
      "degrees of freedom: 15\n",
      "Reject null hypothesis\n"
     ]
    }
   ],
   "source": [
    "# Chi-Square Test for Education\n",
    "\n",
    "chi2_stat, p, dof, expected = stats.chi2_contingency(ed_income_cross)\n",
    "\n",
    "print(f\"p-value: {p:.5g}\")\n",
    "print(f\"degrees of freedom: {dof}\")\n",
    "\n",
    "if p <= significance_level: \n",
    "    print('Reject null hypothesis') \n",
    "else: \n",
    "    print('Fail to reject null hypothesis')"
   ]
  },
  {
   "cell_type": "code",
   "execution_count": 148,
   "metadata": {},
   "outputs": [
    {
     "name": "stdout",
     "output_type": "stream",
     "text": [
      "p-value: 4.356e-05\n",
      "degrees of freedom: 3\n",
      "Reject null hypothesis\n"
     ]
    }
   ],
   "source": [
    "# Chi-Square Test for Race\n",
    "\n",
    "chi2_stat,p, dof, expected = stats.chi2_contingency(race_income_cross)\n",
    "\n",
    "print(f\"p-value: {p:.5g}\")\n",
    "print(f\"degrees of freedom: {dof}\")\n",
    "\n",
    "if p <= significance_level: \n",
    "    print('Reject null hypothesis') \n",
    "else: \n",
    "    print('Fail to reject null hypothesis')"
   ]
  },
  {
   "cell_type": "code",
   "execution_count": 149,
   "metadata": {},
   "outputs": [
    {
     "name": "stdout",
     "output_type": "stream",
     "text": [
      "p-value: 5.1726e-26\n",
      "degrees of freedom: 5\n",
      "Reject null hypothesis\n"
     ]
    }
   ],
   "source": [
    "# Chi-Square Test for Marital Status \n",
    "\n",
    "chi2_stat,p, dof, expected = stats.chi2_contingency(marital_income_cross)\n",
    "\n",
    "print(f\"p-value: {p:.5g}\")\n",
    "print(f\"degrees of freedom: {dof}\")\n",
    "\n",
    "if p <= significance_level: \n",
    "    print('Reject null hypothesis') \n",
    "else: \n",
    "    print('Fail to reject null hypothesis')"
   ]
  },
  {
   "cell_type": "markdown",
   "metadata": {},
   "source": [
    "Since all of the P-values fall below our significance level of 0.05, we reject the null hypothesis. The sample data favors the alternative hypothesis, which suggests that the relationship exists in the population. "
   ]
  },
  {
   "cell_type": "markdown",
   "metadata": {},
   "source": [
    "### Data Visualization"
   ]
  },
  {
   "cell_type": "code",
   "execution_count": 83,
   "metadata": {},
   "outputs": [
    {
     "data": {
      "image/png": "[encoded data removed]",
      "text/plain": [
       "<Figure size 1008x432 with 1 Axes>"
      ]
     },
     "metadata": {
      "needs_background": "light"
     },
     "output_type": "display_data"
    }
   ],
   "source": [
    "# Bar plot for income distribution by race\n",
    "plt.figure(figsize=(14, 6))\n",
    "sns.countplot(x='race', hue='income', data=sample_dataframe, order=sample_dataframe['race'].value_counts().index)\n",
    "plt.title(\"Income Distribution based on an Individual's Race\")\n",
    "plt.tight_layout()\n",
    "plt.show()"
   ]
  },
  {
   "cell_type": "code",
   "execution_count": 84,
   "metadata": {},
   "outputs": [
    {
     "data": {
      "image/png": "[encoded data removed]",
      "text/plain": [
       "<Figure size 1008x432 with 1 Axes>"
      ]
     },
     "metadata": {
      "needs_background": "light"
     },
     "output_type": "display_data"
    }
   ],
   "source": [
    "# Bar plot for income distribution by  marital status\n",
    "plt.figure(figsize=(14, 6))\n",
    "sns.countplot(x='marital-status', hue='income', data=sample_dataframe, order=sample_dataframe['marital-status'].value_counts().index)\n",
    "plt.title(\"Income Distribution based on an Individual's Marital Status\")\n",
    "plt.tight_layout()\n",
    "plt.show()"
   ]
  },
  {
   "cell_type": "code",
   "execution_count": 85,
   "metadata": {},
   "outputs": [
    {
     "data": {
      "image/png": "[encoded data removed]",
      "text/plain": [
       "<Figure size 1008x432 with 1 Axes>"
      ]
     },
     "metadata": {
      "needs_background": "light"
     },
     "output_type": "display_data"
    }
   ],
   "source": [
    "# Bar plot for income distribution by education\n",
    "plt.figure(figsize=(14, 6))\n",
    "sns.countplot(x='education', hue='income', data=sample_dataframe, order=sample_dataframe['education'].value_counts().index)\n",
    "plt.title(\"Income Distribution based on an Individual's Education\")\n",
    "plt.tight_layout()\n",
    "plt.show()"
   ]
  },
  {
   "cell_type": "code",
   "execution_count": null,
   "metadata": {},
   "outputs": [],
   "source": [
    "#TODO: Complete Model Analysis Below"
   ]
  }
 ],
 "metadata": {
  "kernelspec": {
   "display_name": "Python 3",
   "language": "python",
   "name": "python3"
  },
  "language_info": {
   "codemirror_mode": {
    "name": "ipython",
    "version": 3
   },
   "file_extension": ".py",
   "mimetype": "text/x-python",
   "name": "python",
   "nbconvert_exporter": "python",
   "pygments_lexer": "ipython3",
   "version": "3.10.11"
  }
 },
 "nbformat": 4,
 "nbformat_minor": 2
}
