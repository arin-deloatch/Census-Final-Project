{
 "cells": [
  {
   "cell_type": "markdown",
   "metadata": {},
   "source": [
    "#  An Individual's Likelihood on Making Over/Under $50K Based on Categorical Features"
   ]
  },
  {
   "cell_type": "code",
   "execution_count": 2,
   "metadata": {},
   "outputs": [],
   "source": [
    "# Importing Dependencies\n",
    "import pandas as pd\n",
    "import numpy as np\n",
    "import statsmodels.api as sm\n",
    "import scipy.stats as stats \n",
    "import matplotlib.pyplot as plt\n",
    "import seaborn as sns\n",
    "import random"
   ]
  },
  {
   "cell_type": "markdown",
   "metadata": {},
   "source": [
    "## Data Cleaning and Preparation"
   ]
  },
  {
   "cell_type": "markdown",
   "metadata": {},
   "source": [
    "A portion of the data cleaning/preparation process involved converting the data into a csv file.<br>\n",
    "\n",
    "For this project, we'll be using the education, race, income features to evaluate if race and education level significantly effects an individual's likelihood of earning over or under $50,000 per year.<br>\n",
    "\n",
    "Below is a filtered version of the census dataset that only includes the filtered feature columns.<br>"
   ]
  },
  {
   "cell_type": "code",
   "execution_count": 3,
   "metadata": {},
   "outputs": [
    {
     "data": {
      "text/html": [
       "<div>\n",
       "<style scoped>\n",
       "    .dataframe tbody tr th:only-of-type {\n",
       "        vertical-align: middle;\n",
       "    }\n",
       "\n",
       "    .dataframe tbody tr th {\n",
       "        vertical-align: top;\n",
       "    }\n",
       "\n",
       "    .dataframe thead th {\n",
       "        text-align: right;\n",
       "    }\n",
       "</style>\n",
       "<table border=\"1\" class=\"dataframe\">\n",
       "  <thead>\n",
       "    <tr style=\"text-align: right;\">\n",
       "      <th></th>\n",
       "      <th>education</th>\n",
       "      <th>marital-status</th>\n",
       "      <th>race</th>\n",
       "      <th>income</th>\n",
       "    </tr>\n",
       "  </thead>\n",
       "  <tbody>\n",
       "    <tr>\n",
       "      <th>0</th>\n",
       "      <td>White</td>\n",
       "      <td>Married-civ-spouse</td>\n",
       "      <td>White</td>\n",
       "      <td>&lt;=50K</td>\n",
       "    </tr>\n",
       "    <tr>\n",
       "      <th>1</th>\n",
       "      <td>White</td>\n",
       "      <td>Divorced</td>\n",
       "      <td>White</td>\n",
       "      <td>&lt;=50K</td>\n",
       "    </tr>\n",
       "    <tr>\n",
       "      <th>2</th>\n",
       "      <td>Black</td>\n",
       "      <td>Married-civ-spouse</td>\n",
       "      <td>Black</td>\n",
       "      <td>&lt;=50K</td>\n",
       "    </tr>\n",
       "    <tr>\n",
       "      <th>3</th>\n",
       "      <td>Black</td>\n",
       "      <td>Married-civ-spouse</td>\n",
       "      <td>Black</td>\n",
       "      <td>&lt;=50K</td>\n",
       "    </tr>\n",
       "    <tr>\n",
       "      <th>4</th>\n",
       "      <td>White</td>\n",
       "      <td>Married-civ-spouse</td>\n",
       "      <td>White</td>\n",
       "      <td>&lt;=50K</td>\n",
       "    </tr>\n",
       "    <tr>\n",
       "      <th>...</th>\n",
       "      <td>...</td>\n",
       "      <td>...</td>\n",
       "      <td>...</td>\n",
       "      <td>...</td>\n",
       "    </tr>\n",
       "    <tr>\n",
       "      <th>32555</th>\n",
       "      <td>White</td>\n",
       "      <td>Married-civ-spouse</td>\n",
       "      <td>White</td>\n",
       "      <td>&lt;=50K</td>\n",
       "    </tr>\n",
       "    <tr>\n",
       "      <th>32556</th>\n",
       "      <td>White</td>\n",
       "      <td>Married-civ-spouse</td>\n",
       "      <td>White</td>\n",
       "      <td>&gt;50K</td>\n",
       "    </tr>\n",
       "    <tr>\n",
       "      <th>32557</th>\n",
       "      <td>White</td>\n",
       "      <td>Widowed</td>\n",
       "      <td>White</td>\n",
       "      <td>&lt;=50K</td>\n",
       "    </tr>\n",
       "    <tr>\n",
       "      <th>32558</th>\n",
       "      <td>White</td>\n",
       "      <td>Never-married</td>\n",
       "      <td>White</td>\n",
       "      <td>&lt;=50K</td>\n",
       "    </tr>\n",
       "    <tr>\n",
       "      <th>32559</th>\n",
       "      <td>White</td>\n",
       "      <td>Married-civ-spouse</td>\n",
       "      <td>White</td>\n",
       "      <td>&gt;50K</td>\n",
       "    </tr>\n",
       "  </tbody>\n",
       "</table>\n",
       "<p>32560 rows × 4 columns</p>\n",
       "</div>"
      ],
      "text/plain": [
       "      education      marital-status   race income\n",
       "0         White  Married-civ-spouse  White  <=50K\n",
       "1         White            Divorced  White  <=50K\n",
       "2         Black  Married-civ-spouse  Black  <=50K\n",
       "3         Black  Married-civ-spouse  Black  <=50K\n",
       "4         White  Married-civ-spouse  White  <=50K\n",
       "...         ...                 ...    ...    ...\n",
       "32555     White  Married-civ-spouse  White  <=50K\n",
       "32556     White  Married-civ-spouse  White   >50K\n",
       "32557     White             Widowed  White  <=50K\n",
       "32558     White       Never-married  White  <=50K\n",
       "32559     White  Married-civ-spouse  White   >50K\n",
       "\n",
       "[32560 rows x 4 columns]"
      ]
     },
     "execution_count": 3,
     "metadata": {},
     "output_type": "execute_result"
    }
   ],
   "source": [
    "# Reading in the census csv as a dataframe\n",
    "census = pd.read_csv('census.csv', usecols=['income','education','race','marital-status'])\n",
    "\n",
    "# The strip function was used because there was an extra white space in the feature columns\n",
    "census['race'] = census['race'].str.strip()\n",
    "census['income'] =  census['income'].str.strip()\n",
    "census['education'] = census['race'].str.strip()\n",
    "census['marital-status'] =  census['marital-status'].str.strip()\n",
    "\n",
    "census"
   ]
  },
  {
   "cell_type": "markdown",
   "metadata": {},
   "source": [
    "## Exploratory Data Analysis"
   ]
  },
  {
   "cell_type": "markdown",
   "metadata": {},
   "source": [
    "Immediately, we notice that there are far more observations for white individuals than any other race in the dataset. <br>\n",
    "\n",
    "Therefore, we'll take a random sample of 150 individuals from each race to fairly conduct our statistical analysis."
   ]
  },
  {
   "cell_type": "code",
   "execution_count": 4,
   "metadata": {},
   "outputs": [
    {
     "data": {
      "text/plain": [
       "White                 27815\n",
       "Black                  3124\n",
       "Asian-Pac-Islander     1039\n",
       "Amer-Indian-Eskimo      311\n",
       "Other                   271\n",
       "Name: race, dtype: int64"
      ]
     },
     "execution_count": 4,
     "metadata": {},
     "output_type": "execute_result"
    }
   ],
   "source": [
    "census['race'].value_counts()"
   ]
  },
  {
   "cell_type": "code",
   "execution_count": 5,
   "metadata": {},
   "outputs": [
    {
     "data": {
      "text/html": [
       "<div>\n",
       "<style scoped>\n",
       "    .dataframe tbody tr th:only-of-type {\n",
       "        vertical-align: middle;\n",
       "    }\n",
       "\n",
       "    .dataframe tbody tr th {\n",
       "        vertical-align: top;\n",
       "    }\n",
       "\n",
       "    .dataframe thead th {\n",
       "        text-align: right;\n",
       "    }\n",
       "</style>\n",
       "<table border=\"1\" class=\"dataframe\">\n",
       "  <thead>\n",
       "    <tr style=\"text-align: right;\">\n",
       "      <th></th>\n",
       "      <th>education</th>\n",
       "      <th>marital-status</th>\n",
       "      <th>race</th>\n",
       "      <th>income</th>\n",
       "    </tr>\n",
       "  </thead>\n",
       "  <tbody>\n",
       "    <tr>\n",
       "      <th>count</th>\n",
       "      <td>32560</td>\n",
       "      <td>32560</td>\n",
       "      <td>32560</td>\n",
       "      <td>32560</td>\n",
       "    </tr>\n",
       "    <tr>\n",
       "      <th>unique</th>\n",
       "      <td>5</td>\n",
       "      <td>7</td>\n",
       "      <td>5</td>\n",
       "      <td>2</td>\n",
       "    </tr>\n",
       "    <tr>\n",
       "      <th>top</th>\n",
       "      <td>White</td>\n",
       "      <td>Married-civ-spouse</td>\n",
       "      <td>White</td>\n",
       "      <td>&lt;=50K</td>\n",
       "    </tr>\n",
       "    <tr>\n",
       "      <th>freq</th>\n",
       "      <td>27815</td>\n",
       "      <td>14976</td>\n",
       "      <td>27815</td>\n",
       "      <td>24719</td>\n",
       "    </tr>\n",
       "  </tbody>\n",
       "</table>\n",
       "</div>"
      ],
      "text/plain": [
       "       education      marital-status   race income\n",
       "count      32560               32560  32560  32560\n",
       "unique         5                   7      5      2\n",
       "top        White  Married-civ-spouse  White  <=50K\n",
       "freq       27815               14976  27815  24719"
      ]
     },
     "execution_count": 5,
     "metadata": {},
     "output_type": "execute_result"
    }
   ],
   "source": [
    "census.describe()"
   ]
  },
  {
   "cell_type": "code",
   "execution_count": 6,
   "metadata": {},
   "outputs": [
    {
     "data": {
      "text/html": [
       "<div>\n",
       "<style scoped>\n",
       "    .dataframe tbody tr th:only-of-type {\n",
       "        vertical-align: middle;\n",
       "    }\n",
       "\n",
       "    .dataframe tbody tr th {\n",
       "        vertical-align: top;\n",
       "    }\n",
       "\n",
       "    .dataframe thead th {\n",
       "        text-align: right;\n",
       "    }\n",
       "</style>\n",
       "<table border=\"1\" class=\"dataframe\">\n",
       "  <thead>\n",
       "    <tr style=\"text-align: right;\">\n",
       "      <th></th>\n",
       "      <th>education</th>\n",
       "      <th>marital-status</th>\n",
       "      <th>race</th>\n",
       "      <th>income</th>\n",
       "    </tr>\n",
       "  </thead>\n",
       "  <tbody>\n",
       "    <tr>\n",
       "      <th>9720</th>\n",
       "      <td>White</td>\n",
       "      <td>Divorced</td>\n",
       "      <td>White</td>\n",
       "      <td>&lt;=50K</td>\n",
       "    </tr>\n",
       "    <tr>\n",
       "      <th>1681</th>\n",
       "      <td>White</td>\n",
       "      <td>Married-civ-spouse</td>\n",
       "      <td>White</td>\n",
       "      <td>&gt;50K</td>\n",
       "    </tr>\n",
       "    <tr>\n",
       "      <th>24467</th>\n",
       "      <td>White</td>\n",
       "      <td>Widowed</td>\n",
       "      <td>White</td>\n",
       "      <td>&lt;=50K</td>\n",
       "    </tr>\n",
       "    <tr>\n",
       "      <th>19847</th>\n",
       "      <td>White</td>\n",
       "      <td>Separated</td>\n",
       "      <td>White</td>\n",
       "      <td>&lt;=50K</td>\n",
       "    </tr>\n",
       "    <tr>\n",
       "      <th>14468</th>\n",
       "      <td>White</td>\n",
       "      <td>Divorced</td>\n",
       "      <td>White</td>\n",
       "      <td>&lt;=50K</td>\n",
       "    </tr>\n",
       "    <tr>\n",
       "      <th>...</th>\n",
       "      <td>...</td>\n",
       "      <td>...</td>\n",
       "      <td>...</td>\n",
       "      <td>...</td>\n",
       "    </tr>\n",
       "    <tr>\n",
       "      <th>19758</th>\n",
       "      <td>Amer-Indian-Eskimo</td>\n",
       "      <td>Never-married</td>\n",
       "      <td>Amer-Indian-Eskimo</td>\n",
       "      <td>&lt;=50K</td>\n",
       "    </tr>\n",
       "    <tr>\n",
       "      <th>17780</th>\n",
       "      <td>Amer-Indian-Eskimo</td>\n",
       "      <td>Married-spouse-absent</td>\n",
       "      <td>Amer-Indian-Eskimo</td>\n",
       "      <td>&lt;=50K</td>\n",
       "    </tr>\n",
       "    <tr>\n",
       "      <th>19136</th>\n",
       "      <td>Amer-Indian-Eskimo</td>\n",
       "      <td>Separated</td>\n",
       "      <td>Amer-Indian-Eskimo</td>\n",
       "      <td>&lt;=50K</td>\n",
       "    </tr>\n",
       "    <tr>\n",
       "      <th>30578</th>\n",
       "      <td>Amer-Indian-Eskimo</td>\n",
       "      <td>Never-married</td>\n",
       "      <td>Amer-Indian-Eskimo</td>\n",
       "      <td>&lt;=50K</td>\n",
       "    </tr>\n",
       "    <tr>\n",
       "      <th>16933</th>\n",
       "      <td>Amer-Indian-Eskimo</td>\n",
       "      <td>Divorced</td>\n",
       "      <td>Amer-Indian-Eskimo</td>\n",
       "      <td>&lt;=50K</td>\n",
       "    </tr>\n",
       "  </tbody>\n",
       "</table>\n",
       "<p>600 rows × 4 columns</p>\n",
       "</div>"
      ],
      "text/plain": [
       "                education         marital-status                race income\n",
       "9720                White               Divorced               White  <=50K\n",
       "1681                White     Married-civ-spouse               White   >50K\n",
       "24467               White                Widowed               White  <=50K\n",
       "19847               White              Separated               White  <=50K\n",
       "14468               White               Divorced               White  <=50K\n",
       "...                   ...                    ...                 ...    ...\n",
       "19758  Amer-Indian-Eskimo          Never-married  Amer-Indian-Eskimo  <=50K\n",
       "17780  Amer-Indian-Eskimo  Married-spouse-absent  Amer-Indian-Eskimo  <=50K\n",
       "19136  Amer-Indian-Eskimo              Separated  Amer-Indian-Eskimo  <=50K\n",
       "30578  Amer-Indian-Eskimo          Never-married  Amer-Indian-Eskimo  <=50K\n",
       "16933  Amer-Indian-Eskimo               Divorced  Amer-Indian-Eskimo  <=50K\n",
       "\n",
       "[600 rows x 4 columns]"
      ]
     },
     "execution_count": 6,
     "metadata": {},
     "output_type": "execute_result"
    }
   ],
   "source": [
    "# Gathering Sample Data by Race\n",
    "\n",
    "# Replace parameter is used to ensure all 150 samples are unique. Random seed is set for reproducibility.\n",
    "np.random.seed(0)\n",
    "\n",
    "white_sample = census[census['race'] == 'White'].sample(n=150, replace=False)\n",
    "black_sample = census[census['race'] == 'Black'].sample(n=150, replace=False)\n",
    "asian_sample = census[census['race'] == 'Asian-Pac-Islander'].sample(n=150, replace=False)\n",
    "indian_sample = census[census['race'] == 'Amer-Indian-Eskimo'].sample(n=150, replace=False)\n",
    "\n",
    "sample_dataframe = pd.concat([white_sample,black_sample,\n",
    "                              asian_sample,indian_sample])\n",
    "\n",
    "sample_dataframe"
   ]
  },
  {
   "cell_type": "code",
   "execution_count": 7,
   "metadata": {},
   "outputs": [
    {
     "data": {
      "text/html": [
       "<div>\n",
       "<style scoped>\n",
       "    .dataframe tbody tr th:only-of-type {\n",
       "        vertical-align: middle;\n",
       "    }\n",
       "\n",
       "    .dataframe tbody tr th {\n",
       "        vertical-align: top;\n",
       "    }\n",
       "\n",
       "    .dataframe thead th {\n",
       "        text-align: right;\n",
       "    }\n",
       "</style>\n",
       "<table border=\"1\" class=\"dataframe\">\n",
       "  <thead>\n",
       "    <tr style=\"text-align: right;\">\n",
       "      <th></th>\n",
       "      <th>education</th>\n",
       "      <th>marital-status</th>\n",
       "      <th>race</th>\n",
       "      <th>income</th>\n",
       "    </tr>\n",
       "  </thead>\n",
       "  <tbody>\n",
       "    <tr>\n",
       "      <th>count</th>\n",
       "      <td>600</td>\n",
       "      <td>600</td>\n",
       "      <td>600</td>\n",
       "      <td>600</td>\n",
       "    </tr>\n",
       "    <tr>\n",
       "      <th>unique</th>\n",
       "      <td>4</td>\n",
       "      <td>6</td>\n",
       "      <td>4</td>\n",
       "      <td>2</td>\n",
       "    </tr>\n",
       "    <tr>\n",
       "      <th>top</th>\n",
       "      <td>White</td>\n",
       "      <td>Married-civ-spouse</td>\n",
       "      <td>White</td>\n",
       "      <td>&lt;=50K</td>\n",
       "    </tr>\n",
       "    <tr>\n",
       "      <th>freq</th>\n",
       "      <td>150</td>\n",
       "      <td>266</td>\n",
       "      <td>150</td>\n",
       "      <td>469</td>\n",
       "    </tr>\n",
       "  </tbody>\n",
       "</table>\n",
       "</div>"
      ],
      "text/plain": [
       "       education      marital-status   race income\n",
       "count        600                 600    600    600\n",
       "unique         4                   6      4      2\n",
       "top        White  Married-civ-spouse  White  <=50K\n",
       "freq         150                 266    150    469"
      ]
     },
     "execution_count": 7,
     "metadata": {},
     "output_type": "execute_result"
    }
   ],
   "source": [
    "sample_dataframe.describe()"
   ]
  },
  {
   "cell_type": "markdown",
   "metadata": {},
   "source": [
    "## Model Selection and Analysis"
   ]
  },
  {
   "cell_type": "markdown",
   "metadata": {},
   "source": [
    "Before conducting data visualizations on the samples from the census population, we'll first declare a null and alternative hypotheis followed by a Pearson's chi-squared test for independence.  <br><br>\n",
    "$H_0$: There is no relation between the categorical feature and income.<br>\n",
    "$H_\\alpha$ : There is a relation between the categorical feature and income. <br>\n",
    "\n",
    "It is important to note that we will be conducting the chi-squared test with income and one categorical feature at a time. We are not testing the relationship between income and all categorical features simulatenously.\n",
    "\n",
    "We will verify our hypothesis using: p-value"
   ]
  },
  {
   "cell_type": "markdown",
   "metadata": {},
   "source": [
    "### Chi-Square Test"
   ]
  },
  {
   "cell_type": "code",
   "execution_count": 8,
   "metadata": {},
   "outputs": [],
   "source": [
    "# Setting our P-value/significance level\n",
    "significance_level = 0.05\n",
    "\n",
    "# Education + Income Crosstab\n",
    "ed_income_cross = pd.crosstab(sample_dataframe[\"education\"],sample_dataframe[\"income\"])\n",
    "\n",
    "# Race + Income Crosstab\n",
    "race_income_cross = pd.crosstab(sample_dataframe[\"race\"],sample_dataframe[\"income\"])\n",
    "\n",
    "# Marital Status + Income Crosstab\n",
    "marital_income_cross = pd.crosstab(sample_dataframe[\"marital-status\"],sample_dataframe[\"income\"])\n"
   ]
  },
  {
   "cell_type": "code",
   "execution_count": 9,
   "metadata": {},
   "outputs": [
    {
     "name": "stdout",
     "output_type": "stream",
     "text": [
      "Education: \n",
      " income              <=50K  >50K\n",
      "education                      \n",
      "Amer-Indian-Eskimo    133    17\n",
      "Asian-Pac-Islander    105    45\n",
      "Black                 125    25\n",
      "White                 106    44\n"
     ]
    }
   ],
   "source": [
    "# Printing out contingency tables\n",
    "\n",
    "# Education Contingency Table\n",
    "print(\"Education: \\n\", ed_income_cross)"
   ]
  },
  {
   "cell_type": "code",
   "execution_count": 10,
   "metadata": {},
   "outputs": [
    {
     "name": "stdout",
     "output_type": "stream",
     "text": [
      "Race: \n",
      " income              <=50K  >50K\n",
      "race                           \n",
      "Amer-Indian-Eskimo    133    17\n",
      "Asian-Pac-Islander    105    45\n",
      "Black                 125    25\n",
      "White                 106    44\n"
     ]
    }
   ],
   "source": [
    "# Race Contingency Table\n",
    "print(\"Race: \\n\", race_income_cross)"
   ]
  },
  {
   "cell_type": "code",
   "execution_count": 11,
   "metadata": {},
   "outputs": [
    {
     "name": "stdout",
     "output_type": "stream",
     "text": [
      "Marital: \n",
      " income                 <=50K  >50K\n",
      "marital-status                    \n",
      "Divorced                  74     4\n",
      "Married-civ-spouse       151   115\n",
      "Married-spouse-absent     10     1\n",
      "Never-married            183     8\n",
      "Separated                 32     2\n",
      "Widowed                   19     1\n"
     ]
    }
   ],
   "source": [
    "# Marital Contingency Table\n",
    "print(\"Marital: \\n\", marital_income_cross)"
   ]
  },
  {
   "cell_type": "code",
   "execution_count": 12,
   "metadata": {},
   "outputs": [
    {
     "name": "stdout",
     "output_type": "stream",
     "text": [
      "p-value: 4.356e-05\n",
      "degrees of freedom: 3\n",
      "Reject null hypothesis\n"
     ]
    }
   ],
   "source": [
    "# Chi-Square Test for Education\n",
    "\n",
    "chi2_stat, p, dof, expected = stats.chi2_contingency(ed_income_cross)\n",
    "\n",
    "print(f\"p-value: {p:.5g}\")\n",
    "print(f\"degrees of freedom: {dof}\")\n",
    "\n",
    "if p <= significance_level: \n",
    "    print('Reject null hypothesis') \n",
    "else: \n",
    "    print('Fail to reject null hypothesis')"
   ]
  },
  {
   "cell_type": "code",
   "execution_count": 13,
   "metadata": {},
   "outputs": [
    {
     "name": "stdout",
     "output_type": "stream",
     "text": [
      "p-value: 4.356e-05\n",
      "degrees of freedom: 3\n",
      "Reject null hypothesis\n"
     ]
    }
   ],
   "source": [
    "# Chi-Square Test for Race\n",
    "\n",
    "chi2_stat,p, dof, expected = stats.chi2_contingency(race_income_cross)\n",
    "\n",
    "print(f\"p-value: {p:.5g}\")\n",
    "print(f\"degrees of freedom: {dof}\")\n",
    "\n",
    "if p <= significance_level: \n",
    "    print('Reject null hypothesis') \n",
    "else: \n",
    "    print('Fail to reject null hypothesis')"
   ]
  },
  {
   "cell_type": "code",
   "execution_count": 14,
   "metadata": {},
   "outputs": [
    {
     "name": "stdout",
     "output_type": "stream",
     "text": [
      "p-value: 5.1726e-26\n",
      "degrees of freedom: 5\n",
      "Reject null hypothesis\n"
     ]
    }
   ],
   "source": [
    "# Chi-Square Test for Marital Status \n",
    "\n",
    "chi2_stat,p, dof, expected = stats.chi2_contingency(marital_income_cross)\n",
    "\n",
    "print(f\"p-value: {p:.5g}\")\n",
    "print(f\"degrees of freedom: {dof}\")\n",
    "\n",
    "if p <= significance_level: \n",
    "    print('Reject null hypothesis') \n",
    "else: \n",
    "    print('Fail to reject null hypothesis')"
   ]
  },
  {
   "cell_type": "markdown",
   "metadata": {},
   "source": [
    "Since all of the P-values fall below our significance level of 0.05, we reject the null hypothesis. The sample data favors the alternative hypothesis, which suggests that the relationship exists in the population. "
   ]
  },
  {
   "cell_type": "markdown",
   "metadata": {},
   "source": [
    "### Data Visualization"
   ]
  },
  {
   "cell_type": "code",
   "execution_count": 15,
   "metadata": {},
   "outputs": [
    {
     "data": {
      "image/png": "[encoded data removed]",
      "text/plain": [
       "<Figure size 1008x432 with 1 Axes>"
      ]
     },
     "metadata": {
      "needs_background": "light"
     },
     "output_type": "display_data"
    }
   ],
   "source": [
    "# Bar plot for income distribution by race\n",
    "plt.figure(figsize=(14, 6))\n",
    "sns.countplot(x='race', hue='income', \n",
    "              data=sample_dataframe, order=sample_dataframe['race'].value_counts().index)\n",
    "plt.title(\"Income Distribution based on an Individual's Race\")\n",
    "plt.tight_layout()\n",
    "plt.show()"
   ]
  },
  {
   "cell_type": "markdown",
   "metadata": {},
   "source": [
    "The plot titled “Income Distribution based on an Individual's Race” provides a clear visual representation of how income distribution varies across different racial groups. The most evident trend from this sample data is that across all racial groups, there are more individuals in the \"<=50K\" income bracket than in the \">50K\" bracket."
   ]
  },
  {
   "cell_type": "code",
   "execution_count": 16,
   "metadata": {},
   "outputs": [
    {
     "data": {
      "image/png": "[encoded data removed]",
      "text/plain": [
       "<Figure size 1008x432 with 1 Axes>"
      ]
     },
     "metadata": {
      "needs_background": "light"
     },
     "output_type": "display_data"
    }
   ],
   "source": [
    "# Bar plot for income distribution by  marital status\n",
    "plt.figure(figsize=(14, 6))\n",
    "sns.countplot(x='marital-status', hue='income', \n",
    "              data=sample_dataframe, order=sample_dataframe['marital-status'].value_counts().index)\n",
    "plt.title(\"Income Distribution based on an Individual's Marital Status\")\n",
    "plt.tight_layout()\n",
    "plt.show()"
   ]
  },
  {
   "cell_type": "markdown",
   "metadata": {},
   "source": [
    "The plot titled \"Income Distribution based on an Individual's Marital Status\" is a bar plot that illustrates the count of individuals within different income brackets, further segmented by their marital status. One noticeable trend is that the \"Never-married\" and \"Married-civ-spouse\" categories have the most substantial counts. For the \"Never-married\" group, a majority earn less than 50K, while the \"Married-civ-spouse\" group has a more balanced distribution between the two income brackets."
   ]
  },
  {
   "cell_type": "code",
   "execution_count": 17,
   "metadata": {},
   "outputs": [
    {
     "data": {
      "image/png": "[encoded data removed]",
      "text/plain": [
       "<Figure size 1008x432 with 1 Axes>"
      ]
     },
     "metadata": {
      "needs_background": "light"
     },
     "output_type": "display_data"
    }
   ],
   "source": [
    "# Bar plot for income distribution by education\n",
    "plt.figure(figsize=(14, 6))\n",
    "sns.countplot(x='education', hue='income', \n",
    "              data=sample_dataframe, order=sample_dataframe['education'].value_counts().index)\n",
    "plt.title(\"Income Distribution based on an Individual's Education\")\n",
    "plt.tight_layout()\n",
    "plt.show()"
   ]
  },
  {
   "cell_type": "markdown",
   "metadata": {},
   "source": [
    "The plot titled \"Income Distribution based on an Individual's Education\" is a bar plot that displays the number of individuals within two income brackets, categorized by their educational attainment. A notable trend is that as the education level increases, the probability of earning \">50K\" also seems to increase. However, the largest categories by count are \"HS-grad\" and \"Some-college,\" indicating that these are the most common education levels in the dataset."
   ]
  }
 ],
 "metadata": {
  "kernelspec": {
   "display_name": "Python 3",
   "language": "python",
   "name": "python3"
  },
  "language_info": {
   "codemirror_mode": {
    "name": "ipython",
    "version": 3
   },
   "file_extension": ".py",
   "mimetype": "text/x-python",
   "name": "python",
   "nbconvert_exporter": "python",
   "pygments_lexer": "ipython3",
   "version": "3.10.11"
  }
 },
 "nbformat": 4,
 "nbformat_minor": 2
}
